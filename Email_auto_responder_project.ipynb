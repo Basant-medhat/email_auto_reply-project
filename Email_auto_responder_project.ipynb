{
  "nbformat": 4,
  "nbformat_minor": 0,
  "metadata": {
    "colab": {
      "provenance": []
    },
    "kernelspec": {
      "name": "python3",
      "display_name": "Python 3"
    },
    "language_info": {
      "name": "python"
    }
  },
  "cells": [
    {
      "cell_type": "code",
      "execution_count": null,
      "metadata": {
        "id": "W62lBxjsNX0t"
      },
      "outputs": [],
      "source": [
        "import pandas as pd\n",
        "import re\n",
        "import numpy as np\n",
        "from sklearn.model_selection import train_test_split\n",
        "from sklearn.preprocessing import LabelEncoder\n",
        "from sklearn.metrics import classification_report, accuracy_score\n",
        "from sklearn.pipeline import Pipeline\n",
        "from sklearn.feature_extraction.text import TfidfVectorizer\n",
        "from sklearn.svm import SVC\n",
        "\n",
        "from tensorflow.keras.preprocessing.text import Tokenizer\n",
        "from tensorflow.keras.preprocessing.sequence import pad_sequences\n",
        "from tensorflow.keras.models import Sequential\n",
        "from tensorflow.keras.layers import Embedding, Bidirectional, LSTM, Dropout, Dense, SimpleRNN\n",
        "from tensorflow.keras.callbacks import EarlyStopping\n",
        "from tensorflow.keras.utils import to_categorical\n",
        "\n",
        "from sklearn.linear_model import LogisticRegression\n",
        "\n",
        "from tensorflow.keras.layers import GRU"
      ]
    },
    {
      "cell_type": "markdown",
      "source": [
        "# Load and Clean"
      ],
      "metadata": {
        "id": "w_MDocbaNkrl"
      }
    },
    {
      "cell_type": "code",
      "source": [
        "df = pd.read_excel(\"email_auto_responder_dataset_17000.xlsx\")"
      ],
      "metadata": {
        "id": "r7Cshub-Nh1J"
      },
      "execution_count": null,
      "outputs": []
    },
    {
      "cell_type": "code",
      "source": [
        "def clean_text(text):\n",
        "    text = str(text).lower()\n",
        "    text = re.sub(r'[^a-z\\s]', '', text)\n",
        "    text = re.sub(r'\\s+', ' ', text).strip()\n",
        "    return text\n",
        "\n",
        "def strip_polite_suffix(text):\n",
        "    suffixes = ['asap', 'thanks', 'urgently', 'please assist', 'now', 'if possible', 'please']\n",
        "    words = text.split()\n",
        "    while words and words[-1] in suffixes:\n",
        "        words.pop()\n",
        "    return ' '.join(words)\n",
        "\n",
        "df['customer_email'] = df['customer_email'].apply(clean_text)\n",
        "df['support_reply'] = df['support_reply'].apply(lambda x: strip_polite_suffix(clean_text(x)))\n",
        "df.dropna(subset=['customer_email', 'support_reply'], inplace=True)\n"
      ],
      "metadata": {
        "id": "xxUwl2kdN2je"
      },
      "execution_count": null,
      "outputs": []
    },
    {
      "cell_type": "markdown",
      "source": [
        "# Label Encoding"
      ],
      "metadata": {
        "id": "L3RwnHBuN4fx"
      }
    },
    {
      "cell_type": "code",
      "source": [
        "label_encoder = LabelEncoder()\n",
        "df['label'] = label_encoder.fit_transform(df['support_reply'])\n",
        "num_classes = len(label_encoder.classes_)\n"
      ],
      "metadata": {
        "id": "EIHA2dGnN30C"
      },
      "execution_count": null,
      "outputs": []
    },
    {
      "cell_type": "markdown",
      "source": [
        "# Tokenization"
      ],
      "metadata": {
        "id": "r6JgCEeSOA7D"
      }
    },
    {
      "cell_type": "code",
      "source": [
        "tokenizer = Tokenizer(num_words=5000, oov_token=\"<OOV>\")\n",
        "tokenizer.fit_on_texts(df['customer_email'])\n",
        "sequences = tokenizer.texts_to_sequences(df['customer_email'])\n",
        "padded = pad_sequences(sequences, maxlen=50, padding='post')\n",
        "vocab_size = min(len(tokenizer.word_index) + 1, 5000)\n"
      ],
      "metadata": {
        "id": "FwDLytSYOET9"
      },
      "execution_count": null,
      "outputs": []
    },
    {
      "cell_type": "markdown",
      "source": [
        "# Train/Test Split"
      ],
      "metadata": {
        "id": "a_au8woVOHEP"
      }
    },
    {
      "cell_type": "code",
      "source": [
        "X_train, X_test, y_train, y_test = train_test_split(padded, df['label'], test_size=0.2, random_state=42)\n",
        "y_train_cat = to_categorical(y_train, num_classes=num_classes)\n",
        "y_test_cat = to_categorical(y_test, num_classes=num_classes)"
      ],
      "metadata": {
        "id": "Y5CHE5WwOJ0j"
      },
      "execution_count": null,
      "outputs": []
    },
    {
      "cell_type": "markdown",
      "source": [
        "# SVM"
      ],
      "metadata": {
        "id": "2DoMIoovOOMz"
      }
    },
    {
      "cell_type": "code",
      "source": [
        "X_train_svm, X_test_svm, y_train_svm, y_test_svm = train_test_split(df['customer_email'], df['label'], test_size=0.2, random_state=42)\n",
        "\n",
        "svm_pipeline = Pipeline([\n",
        "    ('tfidf', TfidfVectorizer(max_features=5000)),\n",
        "    ('svm', SVC(kernel='linear', probability=True))\n",
        "])\n",
        "svm_pipeline.fit(X_train_svm, y_train_svm)\n",
        "y_pred_svm = svm_pipeline.predict(X_test_svm)\n",
        "print(\"✅ SVM Accuracy:\", accuracy_score(y_test_svm, y_pred_svm))\n",
        "print(\"📊 SVM Classification Report:\\n\", classification_report(y_test_svm, y_pred_svm, target_names=label_encoder.classes_))\n"
      ],
      "metadata": {
        "colab": {
          "base_uri": "https://localhost:8080/"
        },
        "id": "rx6VIDBgONsH",
        "outputId": "ee27480f-b4ef-4c1f-8228-36694a98a01c"
      },
      "execution_count": null,
      "outputs": [
        {
          "output_type": "stream",
          "name": "stdout",
          "text": [
            "✅ SVM Accuracy: 0.9514705882352941\n",
            "📊 SVM Classification Report:\n",
            "                                                                                                    precision    recall  f1-score   support\n",
            "\n",
            "            please follow the instructions in the email to unlock your account or contact support       0.94      1.00      0.97       303\n",
            "please follow the instructions in the email to unlock your account or contact support if possible       0.00      0.00      0.00        19\n",
            "                                           sure please click the forgot password link to reset it       0.96      1.00      0.98       334\n",
            "                               sure please click the forgot password link to reset it if possible       0.00      0.00      0.00        13\n",
            "                      we apologize for the inconvenience please return the item for a replacement       0.95      1.00      0.98       335\n",
            "          we apologize for the inconvenience please return the item for a replacement if possible       0.00      0.00      0.00        17\n",
            "                         were sorry for the delay your order is on its way and should arrive soon       0.94      1.00      0.97       342\n",
            "             were sorry for the delay your order is on its way and should arrive soon if possible       0.00      0.00      0.00        21\n",
            "                      weve corrected the error the refund will appear in your account within days       0.94      1.00      0.97       332\n",
            "          weve corrected the error the refund will appear in your account within days if possible       0.00      0.00      0.00        20\n",
            "                    yes please go to your account and update the shipping address before shipping       0.97      1.00      0.98       350\n",
            "        yes please go to your account and update the shipping address before shipping if possible       0.00      0.00      0.00        12\n",
            "                                  yes your invoice has been sent to your registered email address       0.95      1.00      0.98       303\n",
            "                      yes your invoice has been sent to your registered email address if possible       0.00      0.00      0.00        15\n",
            "                                you can return any item within days of purchase for a full refund       0.94      1.00      0.97       334\n",
            "                    you can return any item within days of purchase for a full refund if possible       0.00      0.00      0.00        22\n",
            "                                  you can update your billing info from the account settings page       0.97      1.00      0.98       282\n",
            "                      you can update your billing info from the account settings page if possible       0.00      0.00      0.00         9\n",
            "                                                 your subscription has been successfully canceled       0.95      1.00      0.97       320\n",
            "                                     your subscription has been successfully canceled if possible       0.00      0.00      0.00        17\n",
            "\n",
            "                                                                                         accuracy                           0.95      3400\n",
            "                                                                                        macro avg       0.48      0.50      0.49      3400\n",
            "                                                                                     weighted avg       0.91      0.95      0.93      3400\n",
            "\n"
          ]
        },
        {
          "output_type": "stream",
          "name": "stderr",
          "text": [
            "/usr/local/lib/python3.11/dist-packages/sklearn/metrics/_classification.py:1565: UndefinedMetricWarning: Precision is ill-defined and being set to 0.0 in labels with no predicted samples. Use `zero_division` parameter to control this behavior.\n",
            "  _warn_prf(average, modifier, f\"{metric.capitalize()} is\", len(result))\n",
            "/usr/local/lib/python3.11/dist-packages/sklearn/metrics/_classification.py:1565: UndefinedMetricWarning: Precision is ill-defined and being set to 0.0 in labels with no predicted samples. Use `zero_division` parameter to control this behavior.\n",
            "  _warn_prf(average, modifier, f\"{metric.capitalize()} is\", len(result))\n",
            "/usr/local/lib/python3.11/dist-packages/sklearn/metrics/_classification.py:1565: UndefinedMetricWarning: Precision is ill-defined and being set to 0.0 in labels with no predicted samples. Use `zero_division` parameter to control this behavior.\n",
            "  _warn_prf(average, modifier, f\"{metric.capitalize()} is\", len(result))\n"
          ]
        }
      ]
    },
    {
      "cell_type": "markdown",
      "source": [
        "# RNN"
      ],
      "metadata": {
        "id": "5ZzXpc7nOXxa"
      }
    },
    {
      "cell_type": "code",
      "source": [
        "rnn_model = Sequential([\n",
        "    Embedding(input_dim=vocab_size, output_dim=64),\n",
        "    SimpleRNN(64),\n",
        "    Dense(num_classes, activation='softmax')\n",
        "])\n",
        "rnn_model.compile(loss='categorical_crossentropy', optimizer='adam', metrics=['accuracy'])\n",
        "rnn_model.fit(X_train, y_train_cat, epochs=5, batch_size=64, validation_split=0.1, verbose=0)\n",
        "rnn_preds = np.argmax(rnn_model.predict(X_test), axis=1)\n",
        "print(\"\\n✅ RNN Accuracy:\", accuracy_score(y_test, rnn_preds))\n",
        "print(\"📊 RNN Classification Report:\\n\", classification_report(y_test, rnn_preds, target_names=label_encoder.classes_, labels=np.unique(rnn_preds)))\n"
      ],
      "metadata": {
        "colab": {
          "base_uri": "https://localhost:8080/"
        },
        "id": "ei0DGCwlOZkP",
        "outputId": "9a8b3888-4f53-4673-998d-2f019ab2fd98"
      },
      "execution_count": null,
      "outputs": [
        {
          "output_type": "stream",
          "name": "stdout",
          "text": [
            "\u001b[1m107/107\u001b[0m \u001b[32m━━━━━━━━━━━━━━━━━━━━\u001b[0m\u001b[37m\u001b[0m \u001b[1m1s\u001b[0m 6ms/step\n",
            "\n",
            "✅ RNN Accuracy: 0.9514705882352941\n",
            "📊 RNN Classification Report:\n",
            "                                                                                                    precision    recall  f1-score   support\n",
            "\n",
            "            please follow the instructions in the email to unlock your account or contact support       0.94      1.00      0.97       303\n",
            "please follow the instructions in the email to unlock your account or contact support if possible       0.96      1.00      0.98       334\n",
            "                                           sure please click the forgot password link to reset it       0.95      1.00      0.98       335\n",
            "                               sure please click the forgot password link to reset it if possible       0.94      1.00      0.97       342\n",
            "                      we apologize for the inconvenience please return the item for a replacement       0.94      1.00      0.97       332\n",
            "          we apologize for the inconvenience please return the item for a replacement if possible       0.97      1.00      0.98       350\n",
            "                         were sorry for the delay your order is on its way and should arrive soon       0.95      1.00      0.98       303\n",
            "             were sorry for the delay your order is on its way and should arrive soon if possible       0.94      1.00      0.97       334\n",
            "                      weve corrected the error the refund will appear in your account within days       0.97      1.00      0.98       282\n",
            "          weve corrected the error the refund will appear in your account within days if possible       0.95      1.00      0.97       320\n",
            "\n",
            "                                                                                        micro avg       0.95      1.00      0.98      3235\n",
            "                                                                                        macro avg       0.95      1.00      0.98      3235\n",
            "                                                                                     weighted avg       0.95      1.00      0.98      3235\n",
            "\n"
          ]
        },
        {
          "output_type": "stream",
          "name": "stderr",
          "text": [
            "/usr/local/lib/python3.11/dist-packages/sklearn/metrics/_classification.py:2687: UserWarning: labels size, 10, does not match size of target_names, 20\n",
            "  warnings.warn(\n"
          ]
        }
      ]
    },
    {
      "cell_type": "markdown",
      "source": [
        "# LSTM"
      ],
      "metadata": {
        "id": "Sr-SlDtUOqqi"
      }
    },
    {
      "cell_type": "code",
      "source": [
        "model = Sequential([\n",
        "    Embedding(input_dim=vocab_size, output_dim=64),\n",
        "    Bidirectional(LSTM(64, return_sequences=False)),\n",
        "    Dropout(0.4),\n",
        "    Dense(num_classes, activation='softmax')\n",
        "])\n",
        "model.compile(loss='categorical_crossentropy', optimizer='adam', metrics=['accuracy'])\n",
        "\n",
        "early_stop = EarlyStopping(monitor='val_accuracy', patience=3, restore_best_weights=True)\n",
        "model.fit(X_train, y_train_cat, epochs=20, batch_size=64, validation_split=0.1, callbacks=[early_stop], verbose=1)\n",
        "\n",
        "y_pred_probs = model.predict(X_test)\n",
        "y_pred = np.argmax(y_pred_probs, axis=1)\n",
        "print(\"\\n✅ LSTM Accuracy:\", accuracy_score(y_test, y_pred))\n",
        "print(\"📊 LSTM Classification Report:\\n\", classification_report(y_test, y_pred, target_names=label_encoder.classes_))"
      ],
      "metadata": {
        "colab": {
          "base_uri": "https://localhost:8080/"
        },
        "id": "yUiMJ2CNOpHX",
        "outputId": "e1fdd69e-4c2a-46a8-b4b0-f9f63b6eb931"
      },
      "execution_count": null,
      "outputs": [
        {
          "output_type": "stream",
          "name": "stdout",
          "text": [
            "Epoch 1/20\n",
            "\u001b[1m192/192\u001b[0m \u001b[32m━━━━━━━━━━━━━━━━━━━━\u001b[0m\u001b[37m\u001b[0m \u001b[1m19s\u001b[0m 77ms/step - accuracy: 0.5653 - loss: 1.6921 - val_accuracy: 0.9434 - val_loss: 0.2701\n",
            "Epoch 2/20\n",
            "\u001b[1m192/192\u001b[0m \u001b[32m━━━━━━━━━━━━━━━━━━━━\u001b[0m\u001b[37m\u001b[0m \u001b[1m24s\u001b[0m 96ms/step - accuracy: 0.9480 - loss: 0.2690 - val_accuracy: 0.9434 - val_loss: 0.2398\n",
            "Epoch 3/20\n",
            "\u001b[1m192/192\u001b[0m \u001b[32m━━━━━━━━━━━━━━━━━━━━\u001b[0m\u001b[37m\u001b[0m \u001b[1m16s\u001b[0m 76ms/step - accuracy: 0.9476 - loss: 0.2403 - val_accuracy: 0.9434 - val_loss: 0.2266\n",
            "Epoch 4/20\n",
            "\u001b[1m192/192\u001b[0m \u001b[32m━━━━━━━━━━━━━━━━━━━━\u001b[0m\u001b[37m\u001b[0m \u001b[1m20s\u001b[0m 74ms/step - accuracy: 0.9498 - loss: 0.2248 - val_accuracy: 0.9434 - val_loss: 0.2244\n",
            "\u001b[1m107/107\u001b[0m \u001b[32m━━━━━━━━━━━━━━━━━━━━\u001b[0m\u001b[37m\u001b[0m \u001b[1m2s\u001b[0m 18ms/step\n",
            "\n",
            "✅ LSTM Accuracy: 0.9514705882352941\n",
            "📊 LSTM Classification Report:\n",
            "                                                                                                    precision    recall  f1-score   support\n",
            "\n",
            "            please follow the instructions in the email to unlock your account or contact support       0.94      1.00      0.97       303\n",
            "please follow the instructions in the email to unlock your account or contact support if possible       0.00      0.00      0.00        19\n",
            "                                           sure please click the forgot password link to reset it       0.96      1.00      0.98       334\n",
            "                               sure please click the forgot password link to reset it if possible       0.00      0.00      0.00        13\n",
            "                      we apologize for the inconvenience please return the item for a replacement       0.95      1.00      0.98       335\n",
            "          we apologize for the inconvenience please return the item for a replacement if possible       0.00      0.00      0.00        17\n",
            "                         were sorry for the delay your order is on its way and should arrive soon       0.94      1.00      0.97       342\n",
            "             were sorry for the delay your order is on its way and should arrive soon if possible       0.00      0.00      0.00        21\n",
            "                      weve corrected the error the refund will appear in your account within days       0.94      1.00      0.97       332\n",
            "          weve corrected the error the refund will appear in your account within days if possible       0.00      0.00      0.00        20\n",
            "                    yes please go to your account and update the shipping address before shipping       0.97      1.00      0.98       350\n",
            "        yes please go to your account and update the shipping address before shipping if possible       0.00      0.00      0.00        12\n",
            "                                  yes your invoice has been sent to your registered email address       0.95      1.00      0.98       303\n",
            "                      yes your invoice has been sent to your registered email address if possible       0.00      0.00      0.00        15\n",
            "                                you can return any item within days of purchase for a full refund       0.94      1.00      0.97       334\n",
            "                    you can return any item within days of purchase for a full refund if possible       0.00      0.00      0.00        22\n",
            "                                  you can update your billing info from the account settings page       0.97      1.00      0.98       282\n",
            "                      you can update your billing info from the account settings page if possible       0.00      0.00      0.00         9\n",
            "                                                 your subscription has been successfully canceled       0.95      1.00      0.97       320\n",
            "                                     your subscription has been successfully canceled if possible       0.00      0.00      0.00        17\n",
            "\n",
            "                                                                                         accuracy                           0.95      3400\n",
            "                                                                                        macro avg       0.48      0.50      0.49      3400\n",
            "                                                                                     weighted avg       0.91      0.95      0.93      3400\n",
            "\n"
          ]
        },
        {
          "output_type": "stream",
          "name": "stderr",
          "text": [
            "/usr/local/lib/python3.11/dist-packages/sklearn/metrics/_classification.py:1565: UndefinedMetricWarning: Precision is ill-defined and being set to 0.0 in labels with no predicted samples. Use `zero_division` parameter to control this behavior.\n",
            "  _warn_prf(average, modifier, f\"{metric.capitalize()} is\", len(result))\n",
            "/usr/local/lib/python3.11/dist-packages/sklearn/metrics/_classification.py:1565: UndefinedMetricWarning: Precision is ill-defined and being set to 0.0 in labels with no predicted samples. Use `zero_division` parameter to control this behavior.\n",
            "  _warn_prf(average, modifier, f\"{metric.capitalize()} is\", len(result))\n",
            "/usr/local/lib/python3.11/dist-packages/sklearn/metrics/_classification.py:1565: UndefinedMetricWarning: Precision is ill-defined and being set to 0.0 in labels with no predicted samples. Use `zero_division` parameter to control this behavior.\n",
            "  _warn_prf(average, modifier, f\"{metric.capitalize()} is\", len(result))\n"
          ]
        }
      ]
    },
    {
      "cell_type": "markdown",
      "source": [
        "# Logistic Regression"
      ],
      "metadata": {
        "id": "bqA_qCcdSIb7"
      }
    },
    {
      "cell_type": "code",
      "source": [
        "\n",
        "logreg_pipeline = Pipeline([\n",
        "    ('tfidf', TfidfVectorizer(max_features=5000)),\n",
        "    ('logreg', LogisticRegression(max_iter=1000, random_state=42))\n",
        "])\n",
        "\n",
        "logreg_pipeline.fit(X_train_svm, y_train_svm)\n",
        "y_pred_logreg = logreg_pipeline.predict(X_test_svm)\n",
        "\n",
        "logreg_acc = accuracy_score(y_test_svm, y_pred_logreg)\n",
        "print(\"✅ Logistic Regression Accuracy:\", logreg_acc)\n",
        "print(\"📊 Logistic Regression Classification Report:\\n\", classification_report(y_test_svm, y_pred_logreg, target_names=label_encoder.classes_))"
      ],
      "metadata": {
        "colab": {
          "base_uri": "https://localhost:8080/"
        },
        "id": "dPmdCiKzSG92",
        "outputId": "16920115-8a06-4e1f-fbc0-49a75943b76b"
      },
      "execution_count": null,
      "outputs": [
        {
          "output_type": "stream",
          "name": "stdout",
          "text": [
            "✅ Logistic Regression Accuracy: 0.9514705882352941\n",
            "📊 Logistic Regression Classification Report:\n",
            "                                                                                                    precision    recall  f1-score   support\n",
            "\n",
            "            please follow the instructions in the email to unlock your account or contact support       0.94      1.00      0.97       303\n",
            "please follow the instructions in the email to unlock your account or contact support if possible       0.00      0.00      0.00        19\n",
            "                                           sure please click the forgot password link to reset it       0.96      1.00      0.98       334\n",
            "                               sure please click the forgot password link to reset it if possible       0.00      0.00      0.00        13\n",
            "                      we apologize for the inconvenience please return the item for a replacement       0.95      1.00      0.98       335\n",
            "          we apologize for the inconvenience please return the item for a replacement if possible       0.00      0.00      0.00        17\n",
            "                         were sorry for the delay your order is on its way and should arrive soon       0.94      1.00      0.97       342\n",
            "             were sorry for the delay your order is on its way and should arrive soon if possible       0.00      0.00      0.00        21\n",
            "                      weve corrected the error the refund will appear in your account within days       0.94      1.00      0.97       332\n",
            "          weve corrected the error the refund will appear in your account within days if possible       0.00      0.00      0.00        20\n",
            "                    yes please go to your account and update the shipping address before shipping       0.97      1.00      0.98       350\n",
            "        yes please go to your account and update the shipping address before shipping if possible       0.00      0.00      0.00        12\n",
            "                                  yes your invoice has been sent to your registered email address       0.95      1.00      0.98       303\n",
            "                      yes your invoice has been sent to your registered email address if possible       0.00      0.00      0.00        15\n",
            "                                you can return any item within days of purchase for a full refund       0.94      1.00      0.97       334\n",
            "                    you can return any item within days of purchase for a full refund if possible       0.00      0.00      0.00        22\n",
            "                                  you can update your billing info from the account settings page       0.97      1.00      0.98       282\n",
            "                      you can update your billing info from the account settings page if possible       0.00      0.00      0.00         9\n",
            "                                                 your subscription has been successfully canceled       0.95      1.00      0.97       320\n",
            "                                     your subscription has been successfully canceled if possible       0.00      0.00      0.00        17\n",
            "\n",
            "                                                                                         accuracy                           0.95      3400\n",
            "                                                                                        macro avg       0.48      0.50      0.49      3400\n",
            "                                                                                     weighted avg       0.91      0.95      0.93      3400\n",
            "\n"
          ]
        },
        {
          "output_type": "stream",
          "name": "stderr",
          "text": [
            "/usr/local/lib/python3.11/dist-packages/sklearn/metrics/_classification.py:1565: UndefinedMetricWarning: Precision is ill-defined and being set to 0.0 in labels with no predicted samples. Use `zero_division` parameter to control this behavior.\n",
            "  _warn_prf(average, modifier, f\"{metric.capitalize()} is\", len(result))\n",
            "/usr/local/lib/python3.11/dist-packages/sklearn/metrics/_classification.py:1565: UndefinedMetricWarning: Precision is ill-defined and being set to 0.0 in labels with no predicted samples. Use `zero_division` parameter to control this behavior.\n",
            "  _warn_prf(average, modifier, f\"{metric.capitalize()} is\", len(result))\n",
            "/usr/local/lib/python3.11/dist-packages/sklearn/metrics/_classification.py:1565: UndefinedMetricWarning: Precision is ill-defined and being set to 0.0 in labels with no predicted samples. Use `zero_division` parameter to control this behavior.\n",
            "  _warn_prf(average, modifier, f\"{metric.capitalize()} is\", len(result))\n"
          ]
        }
      ]
    },
    {
      "cell_type": "markdown",
      "source": [
        "# GRU"
      ],
      "metadata": {
        "id": "5LZu9CZlSd2m"
      }
    },
    {
      "cell_type": "code",
      "source": [
        "gru_model = Sequential([\n",
        "    Embedding(input_dim=vocab_size, output_dim=64, input_length=50),\n",
        "    GRU(64),\n",
        "    Dense(num_classes, activation='softmax')\n",
        "])\n",
        "\n",
        "gru_model.compile(loss='categorical_crossentropy', optimizer='adam', metrics=['accuracy'])\n",
        "\n",
        "gru_model.fit(X_train, y_train_cat, epochs=5, batch_size=64, validation_split=0.1, verbose=1)\n",
        "\n",
        "y_pred_gru = gru_model.predict(X_test)\n",
        "y_pred_gru_labels = np.argmax(y_pred_gru, axis=1)\n",
        "\n",
        "gru_acc = accuracy_score(y_test, y_pred_gru_labels)\n",
        "print(\"✅ GRU Accuracy:\", gru_acc)\n",
        "print(\"📊 GRU Classification Report:\\n\", classification_report(y_test, y_pred_gru_labels, target_names=label_encoder.classes_))"
      ],
      "metadata": {
        "colab": {
          "base_uri": "https://localhost:8080/"
        },
        "id": "ET91dqnJSmRw",
        "outputId": "c74705be-52f3-4d58-90d8-7b1ceb6ba6ed"
      },
      "execution_count": null,
      "outputs": [
        {
          "output_type": "stream",
          "name": "stdout",
          "text": [
            "Epoch 1/5\n"
          ]
        },
        {
          "output_type": "stream",
          "name": "stderr",
          "text": [
            "/usr/local/lib/python3.11/dist-packages/keras/src/layers/core/embedding.py:90: UserWarning: Argument `input_length` is deprecated. Just remove it.\n",
            "  warnings.warn(\n"
          ]
        },
        {
          "output_type": "stream",
          "name": "stdout",
          "text": [
            "\u001b[1m192/192\u001b[0m \u001b[32m━━━━━━━━━━━━━━━━━━━━\u001b[0m\u001b[37m\u001b[0m \u001b[1m12s\u001b[0m 46ms/step - accuracy: 0.1096 - loss: 2.6117 - val_accuracy: 0.8338 - val_loss: 1.1439\n",
            "Epoch 2/5\n",
            "\u001b[1m192/192\u001b[0m \u001b[32m━━━━━━━━━━━━━━━━━━━━\u001b[0m\u001b[37m\u001b[0m \u001b[1m10s\u001b[0m 51ms/step - accuracy: 0.9414 - loss: 0.5945 - val_accuracy: 0.9434 - val_loss: 0.2674\n",
            "Epoch 3/5\n",
            "\u001b[1m192/192\u001b[0m \u001b[32m━━━━━━━━━━━━━━━━━━━━\u001b[0m\u001b[37m\u001b[0m \u001b[1m10s\u001b[0m 53ms/step - accuracy: 0.9479 - loss: 0.2411 - val_accuracy: 0.9434 - val_loss: 0.2368\n",
            "Epoch 4/5\n",
            "\u001b[1m192/192\u001b[0m \u001b[32m━━━━━━━━━━━━━━━━━━━━\u001b[0m\u001b[37m\u001b[0m \u001b[1m10s\u001b[0m 53ms/step - accuracy: 0.9442 - loss: 0.2324 - val_accuracy: 0.9434 - val_loss: 0.2294\n",
            "Epoch 5/5\n",
            "\u001b[1m192/192\u001b[0m \u001b[32m━━━━━━━━━━━━━━━━━━━━\u001b[0m\u001b[37m\u001b[0m \u001b[1m20s\u001b[0m 48ms/step - accuracy: 0.9459 - loss: 0.2212 - val_accuracy: 0.9434 - val_loss: 0.2261\n",
            "\u001b[1m107/107\u001b[0m \u001b[32m━━━━━━━━━━━━━━━━━━━━\u001b[0m\u001b[37m\u001b[0m \u001b[1m1s\u001b[0m 10ms/step\n",
            "✅ GRU Accuracy: 0.9514705882352941\n",
            "📊 GRU Classification Report:\n",
            "                                                                                                    precision    recall  f1-score   support\n",
            "\n",
            "            please follow the instructions in the email to unlock your account or contact support       0.94      1.00      0.97       303\n",
            "please follow the instructions in the email to unlock your account or contact support if possible       0.00      0.00      0.00        19\n",
            "                                           sure please click the forgot password link to reset it       0.96      1.00      0.98       334\n",
            "                               sure please click the forgot password link to reset it if possible       0.00      0.00      0.00        13\n",
            "                      we apologize for the inconvenience please return the item for a replacement       0.95      1.00      0.98       335\n",
            "          we apologize for the inconvenience please return the item for a replacement if possible       0.00      0.00      0.00        17\n",
            "                         were sorry for the delay your order is on its way and should arrive soon       0.94      1.00      0.97       342\n",
            "             were sorry for the delay your order is on its way and should arrive soon if possible       0.00      0.00      0.00        21\n",
            "                      weve corrected the error the refund will appear in your account within days       0.94      1.00      0.97       332\n",
            "          weve corrected the error the refund will appear in your account within days if possible       0.00      0.00      0.00        20\n",
            "                    yes please go to your account and update the shipping address before shipping       0.97      1.00      0.98       350\n",
            "        yes please go to your account and update the shipping address before shipping if possible       0.00      0.00      0.00        12\n",
            "                                  yes your invoice has been sent to your registered email address       0.95      1.00      0.98       303\n",
            "                      yes your invoice has been sent to your registered email address if possible       0.00      0.00      0.00        15\n",
            "                                you can return any item within days of purchase for a full refund       0.94      1.00      0.97       334\n",
            "                    you can return any item within days of purchase for a full refund if possible       0.00      0.00      0.00        22\n",
            "                                  you can update your billing info from the account settings page       0.97      1.00      0.98       282\n",
            "                      you can update your billing info from the account settings page if possible       0.00      0.00      0.00         9\n",
            "                                                 your subscription has been successfully canceled       0.95      1.00      0.97       320\n",
            "                                     your subscription has been successfully canceled if possible       0.00      0.00      0.00        17\n",
            "\n",
            "                                                                                         accuracy                           0.95      3400\n",
            "                                                                                        macro avg       0.48      0.50      0.49      3400\n",
            "                                                                                     weighted avg       0.91      0.95      0.93      3400\n",
            "\n"
          ]
        },
        {
          "output_type": "stream",
          "name": "stderr",
          "text": [
            "/usr/local/lib/python3.11/dist-packages/sklearn/metrics/_classification.py:1565: UndefinedMetricWarning: Precision is ill-defined and being set to 0.0 in labels with no predicted samples. Use `zero_division` parameter to control this behavior.\n",
            "  _warn_prf(average, modifier, f\"{metric.capitalize()} is\", len(result))\n",
            "/usr/local/lib/python3.11/dist-packages/sklearn/metrics/_classification.py:1565: UndefinedMetricWarning: Precision is ill-defined and being set to 0.0 in labels with no predicted samples. Use `zero_division` parameter to control this behavior.\n",
            "  _warn_prf(average, modifier, f\"{metric.capitalize()} is\", len(result))\n",
            "/usr/local/lib/python3.11/dist-packages/sklearn/metrics/_classification.py:1565: UndefinedMetricWarning: Precision is ill-defined and being set to 0.0 in labels with no predicted samples. Use `zero_division` parameter to control this behavior.\n",
            "  _warn_prf(average, modifier, f\"{metric.capitalize()} is\", len(result))\n"
          ]
        }
      ]
    }
  ]
}